{
 "cells": [
  {
   "cell_type": "code",
   "execution_count": 1,
   "metadata": {
    "collapsed": true
   },
   "outputs": [],
   "source": [
    "import numpy as np\n",
    "import scipy.optimize as op"
   ]
  },
  {
   "cell_type": "code",
   "execution_count": 2,
   "metadata": {
    "collapsed": true
   },
   "outputs": [],
   "source": [
    "n_movies=10\n",
    "n_users=5\n",
    "n_features=3 # comedy,action,romance etc. applies to both movie and user"
   ]
  },
  {
   "cell_type": "code",
   "execution_count": 3,
   "metadata": {
    "collapsed": false
   },
   "outputs": [],
   "source": [
    "# movies x user rating matrix where ratings are from 1 to 10\n",
    "#each column is a single users rating of all movies\n",
    "# 0 value if the user has not rated the movie\n",
    "ratings =np.array([\n",
    " [8, 4, 0, 0, 4],\n",
    " [0, 0, 8, 10, 4],\n",
    " [8, 10, 0, 0, 6],\n",
    " [10, 10, 8, 10, 10],\n",
    " [0, 0, 0, 0, 0],\n",
    " [2, 0, 4, 0, 6],\n",
    " [8, 6, 4, 0, 0],\n",
    " [0, 0, 6, 4, 0],\n",
    " [0, 6, 0, 4, 10],\n",
    " [0, 4, 6, 8, 8]\n",
    "])"
   ]
  },
  {
   "cell_type": "code",
   "execution_count": 4,
   "metadata": {
    "collapsed": false
   },
   "outputs": [
    {
     "name": "stdout",
     "output_type": "stream",
     "text": [
      "[[ 8  4  0  0  4]\n",
      " [ 0  0  8 10  4]\n",
      " [ 8 10  0  0  6]\n",
      " [10 10  8 10 10]\n",
      " [ 0  0  0  0  0]\n",
      " [ 2  0  4  0  6]\n",
      " [ 8  6  4  0  0]\n",
      " [ 0  0  6  4  0]\n",
      " [ 0  6  0  4 10]\n",
      " [ 0  4  6  8  8]]\n",
      "(10, 5)\n"
     ]
    }
   ],
   "source": [
    "print ratings\n",
    "print ratings.shape"
   ]
  },
  {
   "cell_type": "code",
   "execution_count": 5,
   "metadata": {
    "collapsed": false
   },
   "outputs": [
    {
     "name": "stdout",
     "output_type": "stream",
     "text": [
      "[[1 1 0 0 1]\n",
      " [0 0 1 1 1]\n",
      " [1 1 0 0 1]\n",
      " [1 1 1 1 1]\n",
      " [0 0 0 0 0]\n",
      " [1 0 1 0 1]\n",
      " [1 1 1 0 0]\n",
      " [0 0 1 1 0]\n",
      " [0 1 0 1 1]\n",
      " [0 1 1 1 1]]\n",
      "(10, 5)\n"
     ]
    }
   ],
   "source": [
    "did_rate=(ratings!=0)*1\n",
    "print did_rate\n",
    "print did_rate.shape"
   ]
  },
  {
   "cell_type": "code",
   "execution_count": 6,
   "metadata": {
    "collapsed": false
   },
   "outputs": [],
   "source": [
    "movies={\n",
    "1:\"Harold and Kumar Escape From Guantanamo Bay (2008)\",\n",
    "2:\"Ted (2012)\",\n",
    "3:\"Straight Outta Compton (2015)\",\n",
    "4:\"A Very Harold and Kumar Christmas (2011)\",\n",
    "5:\"Notorious (2009)\",\n",
    "6:\"Get Rich Or Die Tryin' (2005)\",\n",
    "7:\"Frozen (2013)\",\n",
    "8:\"Tangled (2010)\",\n",
    "9:\"Cinderella (2015)\",\n",
    "10:\"Toy Story 3 (2010)\"\n",
    "}"
   ]
  },
  {
   "cell_type": "code",
   "execution_count": 7,
   "metadata": {
    "collapsed": false
   },
   "outputs": [],
   "source": [
    "sample_rating=np.zeros((10,1)) #column vector\n",
    "sample_rating[0] = 8\n",
    "sample_rating[4] = 7\n",
    "sample_rating[7] = 3"
   ]
  },
  {
   "cell_type": "code",
   "execution_count": 8,
   "metadata": {
    "collapsed": false
   },
   "outputs": [],
   "source": [
    "ratings =np.append(sample_rating,ratings, axis=1) # axis=1 append as column. i.e first column here\n",
    "did_rate = np.append(((sample_rating != 0) * 1), did_rate, axis = 1)"
   ]
  },
  {
   "cell_type": "code",
   "execution_count": 13,
   "metadata": {
    "collapsed": false
   },
   "outputs": [
    {
     "name": "stdout",
     "output_type": "stream",
     "text": [
      "[[  7.   8.   4.   0.   0.   4.]\n",
      " [  0.   0.   0.   8.  10.   4.]\n",
      " [  0.   8.  10.   0.   0.   6.]\n",
      " [  0.  10.  10.   8.  10.  10.]\n",
      " [  8.   0.   0.   0.   0.   0.]\n",
      " [  0.   2.   0.   4.   0.   6.]\n",
      " [  0.   8.   6.   4.   0.   0.]\n",
      " [  3.   0.   0.   6.   4.   0.]\n",
      " [  0.   0.   6.   0.   4.  10.]\n",
      " [  0.   0.   4.   6.   8.   8.]]\n",
      "[[1 1 1 0 0 1]\n",
      " [0 0 0 1 1 1]\n",
      " [0 1 1 0 0 1]\n",
      " [0 1 1 1 1 1]\n",
      " [1 0 0 0 0 0]\n",
      " [0 1 0 1 0 1]\n",
      " [0 1 1 1 0 0]\n",
      " [1 0 0 1 1 0]\n",
      " [0 0 1 0 1 1]\n",
      " [0 0 1 1 1 1]]\n"
     ]
    }
   ],
   "source": [
    "print ratings\n",
    "print did_rate"
   ]
  },
  {
   "cell_type": "code",
   "execution_count": 21,
   "metadata": {
    "collapsed": true
   },
   "outputs": [],
   "source": [
    "def mean_normalize_ratings(ratings,did_rate):\n",
    "    n_movies=ratings.shape[0]\n",
    "    movie_means=np.zeros(shape=(n_movies,1))\n",
    "    normalized_ratings=np.zeros(shape=ratings.shape)\n",
    "    \n",
    "    for i in range(n_movies):\n",
    "        index=np.where(did_rate[i]==1)[0]\n",
    "        movie_means[i] =np.mean(ratings[i, index])\n",
    "        normalized_ratings[i, index] = ratings[i, index] - movie_means[i]\n",
    "        \n",
    "    return (normalized_ratings, movie_means)\n",
    "    "
   ]
  },
  {
   "cell_type": "code",
   "execution_count": 22,
   "metadata": {
    "collapsed": false
   },
   "outputs": [],
   "source": [
    "normalized_ratings,movie_means=mean_normalize_ratings(ratings,did_rate)"
   ]
  },
  {
   "cell_type": "code",
   "execution_count": 23,
   "metadata": {
    "collapsed": false
   },
   "outputs": [
    {
     "name": "stdout",
     "output_type": "stream",
     "text": [
      "[[ 1.25        2.25       -1.75        0.          0.         -1.75      ]\n",
      " [ 0.          0.          0.          0.66666667  2.66666667 -3.33333333]\n",
      " [ 0.          0.          2.          0.          0.         -2.        ]\n",
      " [ 0.          0.4         0.4        -1.6         0.4         0.4       ]\n",
      " [ 0.          0.          0.          0.          0.          0.        ]\n",
      " [ 0.         -2.          0.          0.          0.          2.        ]\n",
      " [ 0.          2.          0.         -2.          0.          0.        ]\n",
      " [-1.33333333  0.          0.          1.66666667 -0.33333333  0.        ]\n",
      " [ 0.          0.         -0.66666667  0.         -2.66666667  3.33333333]\n",
      " [ 0.          0.         -2.5        -0.5         1.5         1.5       ]]\n",
      "[[ 5.75      ]\n",
      " [ 7.33333333]\n",
      " [ 8.        ]\n",
      " [ 9.6       ]\n",
      " [ 8.        ]\n",
      " [ 4.        ]\n",
      " [ 6.        ]\n",
      " [ 4.33333333]\n",
      " [ 6.66666667]\n",
      " [ 6.5       ]]\n"
     ]
    }
   ],
   "source": [
    "print normalized_ratings\n",
    "print movie_means"
   ]
  },
  {
   "cell_type": "code",
   "execution_count": 44,
   "metadata": {
    "collapsed": true
   },
   "outputs": [],
   "source": [
    "def cost_function(X_and_theta, ratings, did_rate, num_users, num_movies, num_features, reg_param):\n",
    "\t# Retrieve the X and theta matrixes from X_and_theta, based on their dimensions (num_features, num_movies, num_movies)\n",
    "\t# --------------------------------------------------------------------------------------------------------------\n",
    "\t# Get the first 30 (10 * 3) rows in the 48 X 1 column vector\n",
    "\tfirst_30 = X_and_theta[:num_movies * num_features]\n",
    "\t# Reshape this column vector into a 10 X 3 matrix\n",
    "\tX = first_30.reshape((num_features, num_movies)).transpose()\n",
    "\t# Get the rest of the 18 the numbers, after the first 30\n",
    "\tlast_18 = X_and_theta[num_movies * num_features:]\n",
    "\t# Reshape this column vector into a 6 X 3 matrix\n",
    "\ttheta = last_18.reshape(num_features, num_users ).transpose()\n",
    "\t\n",
    "\t# we multiply by did_rate because we only want to consider observations for which a rating was given\n",
    "\t# we calculate the sum of squared errors here.  \n",
    "\t# in other words, we calculate the squared difference between our hypothesis (predictions) and ratings\n",
    "\tcost = sum( (X.dot( theta.T ) * did_rate - ratings) ** 2 ) / 2\n",
    "\t\n",
    "\t# we get the sum of the square of every element of X and theta\n",
    "\tregularization = (reg_param / 2) * (sum( theta**2 ) + sum(X**2))\n",
    "\treturn cost + regularization"
   ]
  },
  {
   "cell_type": "code",
   "execution_count": 51,
   "metadata": {
    "collapsed": false
   },
   "outputs": [],
   "source": [
    "def compute_gradient(X_and_theta, ratings, did_rate, num_users, num_movies, num_features, reg_param):\n",
    "\t# Retrieve the X and theta matrixes from X_and_theta, based on their dimensions (num_features, num_movies, num_movies)\n",
    "\t# --------------------------------------------------------------------------------------------------------------\n",
    "\t# Get the first 30 (10 * 3) rows in the 48 X 1 column vector\n",
    "\tfirst_30 = X_and_theta[:num_movies * num_features]\n",
    "\t# Reshape this column vector into a 10 X 3 matrix\n",
    "\tX = first_30.reshape((num_features, num_movies)).transpose()\n",
    "\t# Get the rest of the 18 the numbers, after the first 30\n",
    "\tlast_18 = X_and_theta[num_movies * num_features:]\n",
    "\t# Reshape this column vector into a 6 X 3 matrix\n",
    "\ttheta = last_18.reshape(num_features, num_users ).transpose()\n",
    "\t\n",
    "\t# we multiply by did_rate because we only want to consider observations for which a rating was given\n",
    "\tdifference = X.dot( theta.T ) * did_rate - ratings\n",
    "\t\n",
    "\t# we calculate the gradients (derivatives) of the cost with respect to X and theta\n",
    "\tX_grad = difference.dot( theta ) + reg_param * X\n",
    "\ttheta_grad = difference.T.dot( X ) + reg_param * theta\n",
    "\t\n",
    "\t# wrap the gradients back into a column vector \n",
    "\treturn np.r_[X_grad.T.flatten(), theta_grad.T.flatten()]"
   ]
  },
  {
   "cell_type": "code",
   "execution_count": 57,
   "metadata": {
    "collapsed": false
   },
   "outputs": [],
   "source": [
    "num_movies, num_users = np.shape(normalized_ratings)\n",
    "num_features = 3\n",
    "\n",
    "# Initialize Parameters theta (user_prefs), X (movie_features)\n",
    "\n",
    "movie_features = np.random.randn( num_movies, num_features )\n",
    "user_prefs = np.random.randn( num_users, num_features )"
   ]
  },
  {
   "cell_type": "code",
   "execution_count": 63,
   "metadata": {
    "collapsed": false
   },
   "outputs": [],
   "source": [
    "initial_X_and_theta = np.r_[movie_features.T.flatten(), user_prefs.T.flatten()]"
   ]
  },
  {
   "cell_type": "code",
   "execution_count": 66,
   "metadata": {
    "collapsed": false
   },
   "outputs": [
    {
     "ename": "ValueError",
     "evalue": "operands could not be broadcast together with shapes (6,) (3,) ",
     "output_type": "error",
     "traceback": [
      "\u001b[1;31m---------------------------------------------------------------------------\u001b[0m",
      "\u001b[1;31mValueError\u001b[0m                                Traceback (most recent call last)",
      "\u001b[1;32m<ipython-input-66-6b34d04a095f>\u001b[0m in \u001b[0;36m<module>\u001b[1;34m()\u001b[0m\n\u001b[0;32m      4\u001b[0m \u001b[1;31m# fprime simply refers to the derivative (gradient) of the calculate_cost function\u001b[0m\u001b[1;33m\u001b[0m\u001b[1;33m\u001b[0m\u001b[0m\n\u001b[0;32m      5\u001b[0m \u001b[1;31m# We iterate 100 times\u001b[0m\u001b[1;33m\u001b[0m\u001b[1;33m\u001b[0m\u001b[0m\n\u001b[1;32m----> 6\u001b[1;33m \u001b[0mminimized_cost_and_optimal_params\u001b[0m \u001b[1;33m=\u001b[0m \u001b[0mop\u001b[0m\u001b[1;33m.\u001b[0m\u001b[0mfmin_cg\u001b[0m\u001b[1;33m(\u001b[0m\u001b[0mcost_function\u001b[0m\u001b[1;33m,\u001b[0m \u001b[0mfprime\u001b[0m\u001b[1;33m=\u001b[0m\u001b[0mcompute_gradient\u001b[0m\u001b[1;33m,\u001b[0m \u001b[0mx0\u001b[0m\u001b[1;33m=\u001b[0m\u001b[0minitial_X_and_theta\u001b[0m\u001b[1;33m,\u001b[0m                                                          \u001b[0margs\u001b[0m\u001b[1;33m=\u001b[0m\u001b[1;33m(\u001b[0m\u001b[0mnormalized_ratings\u001b[0m\u001b[1;33m,\u001b[0m \u001b[0mis_rated\u001b[0m\u001b[1;33m,\u001b[0m \u001b[0mnum_users\u001b[0m\u001b[1;33m,\u001b[0m \u001b[0mnum_movies\u001b[0m\u001b[1;33m,\u001b[0m \u001b[0mnum_features\u001b[0m\u001b[1;33m,\u001b[0m \u001b[0mreg_param\u001b[0m\u001b[1;33m)\u001b[0m\u001b[1;33m,\u001b[0m            \u001b[0mmaxiter\u001b[0m\u001b[1;33m=\u001b[0m\u001b[1;36m100\u001b[0m\u001b[1;33m,\u001b[0m \u001b[0mdisp\u001b[0m\u001b[1;33m=\u001b[0m\u001b[0mTrue\u001b[0m\u001b[1;33m,\u001b[0m \u001b[0mfull_output\u001b[0m\u001b[1;33m=\u001b[0m\u001b[0mTrue\u001b[0m \u001b[1;33m)\u001b[0m\u001b[1;33m\u001b[0m\u001b[0m\n\u001b[0m",
      "\u001b[1;32m/usr/lib/python2.7/dist-packages/scipy/optimize/optimize.pyc\u001b[0m in \u001b[0;36mfmin_cg\u001b[1;34m(f, x0, fprime, args, gtol, norm, epsilon, maxiter, full_output, disp, retall, callback)\u001b[0m\n\u001b[0;32m   1085\u001b[0m             'return_all': retall}\n\u001b[0;32m   1086\u001b[0m \u001b[1;33m\u001b[0m\u001b[0m\n\u001b[1;32m-> 1087\u001b[1;33m     \u001b[0mres\u001b[0m \u001b[1;33m=\u001b[0m \u001b[0m_minimize_cg\u001b[0m\u001b[1;33m(\u001b[0m\u001b[0mf\u001b[0m\u001b[1;33m,\u001b[0m \u001b[0mx0\u001b[0m\u001b[1;33m,\u001b[0m \u001b[0margs\u001b[0m\u001b[1;33m,\u001b[0m \u001b[0mfprime\u001b[0m\u001b[1;33m,\u001b[0m \u001b[0mcallback\u001b[0m\u001b[1;33m=\u001b[0m\u001b[0mcallback\u001b[0m\u001b[1;33m,\u001b[0m \u001b[1;33m**\u001b[0m\u001b[0mopts\u001b[0m\u001b[1;33m)\u001b[0m\u001b[1;33m\u001b[0m\u001b[0m\n\u001b[0m\u001b[0;32m   1088\u001b[0m \u001b[1;33m\u001b[0m\u001b[0m\n\u001b[0;32m   1089\u001b[0m     \u001b[1;32mif\u001b[0m \u001b[0mfull_output\u001b[0m\u001b[1;33m:\u001b[0m\u001b[1;33m\u001b[0m\u001b[0m\n",
      "\u001b[1;32m/usr/lib/python2.7/dist-packages/scipy/optimize/optimize.pyc\u001b[0m in \u001b[0;36m_minimize_cg\u001b[1;34m(fun, x0, args, jac, callback, gtol, norm, eps, maxiter, disp, return_all, **unknown_options)\u001b[0m\n\u001b[0;32m   1140\u001b[0m     \u001b[0mk\u001b[0m \u001b[1;33m=\u001b[0m \u001b[1;36m0\u001b[0m\u001b[1;33m\u001b[0m\u001b[0m\n\u001b[0;32m   1141\u001b[0m     \u001b[0mxk\u001b[0m \u001b[1;33m=\u001b[0m \u001b[0mx0\u001b[0m\u001b[1;33m\u001b[0m\u001b[0m\n\u001b[1;32m-> 1142\u001b[1;33m     \u001b[0mold_fval\u001b[0m \u001b[1;33m=\u001b[0m \u001b[0mf\u001b[0m\u001b[1;33m(\u001b[0m\u001b[0mxk\u001b[0m\u001b[1;33m)\u001b[0m\u001b[1;33m\u001b[0m\u001b[0m\n\u001b[0m\u001b[0;32m   1143\u001b[0m     \u001b[0mold_old_fval\u001b[0m \u001b[1;33m=\u001b[0m \u001b[0mNone\u001b[0m\u001b[1;33m\u001b[0m\u001b[0m\n\u001b[0;32m   1144\u001b[0m \u001b[1;33m\u001b[0m\u001b[0m\n",
      "\u001b[1;32m/usr/lib/python2.7/dist-packages/scipy/optimize/optimize.pyc\u001b[0m in \u001b[0;36mfunction_wrapper\u001b[1;34m(*wrapper_args)\u001b[0m\n\u001b[0;32m    279\u001b[0m     \u001b[1;32mdef\u001b[0m \u001b[0mfunction_wrapper\u001b[0m\u001b[1;33m(\u001b[0m\u001b[1;33m*\u001b[0m\u001b[0mwrapper_args\u001b[0m\u001b[1;33m)\u001b[0m\u001b[1;33m:\u001b[0m\u001b[1;33m\u001b[0m\u001b[0m\n\u001b[0;32m    280\u001b[0m         \u001b[0mncalls\u001b[0m\u001b[1;33m[\u001b[0m\u001b[1;36m0\u001b[0m\u001b[1;33m]\u001b[0m \u001b[1;33m+=\u001b[0m \u001b[1;36m1\u001b[0m\u001b[1;33m\u001b[0m\u001b[0m\n\u001b[1;32m--> 281\u001b[1;33m         \u001b[1;32mreturn\u001b[0m \u001b[0mfunction\u001b[0m\u001b[1;33m(\u001b[0m\u001b[1;33m*\u001b[0m\u001b[1;33m(\u001b[0m\u001b[0mwrapper_args\u001b[0m \u001b[1;33m+\u001b[0m \u001b[0margs\u001b[0m\u001b[1;33m)\u001b[0m\u001b[1;33m)\u001b[0m\u001b[1;33m\u001b[0m\u001b[0m\n\u001b[0m\u001b[0;32m    282\u001b[0m \u001b[1;33m\u001b[0m\u001b[0m\n\u001b[0;32m    283\u001b[0m     \u001b[1;32mreturn\u001b[0m \u001b[0mncalls\u001b[0m\u001b[1;33m,\u001b[0m \u001b[0mfunction_wrapper\u001b[0m\u001b[1;33m\u001b[0m\u001b[0m\n",
      "\u001b[1;32m<ipython-input-44-434a3c93eee1>\u001b[0m in \u001b[0;36mcost_function\u001b[1;34m(X_and_theta, ratings, did_rate, num_users, num_movies, num_features, reg_param)\u001b[0m\n\u001b[0;32m     18\u001b[0m         \u001b[1;31m# we get the sum of the square of every element of X and theta\u001b[0m\u001b[1;33m\u001b[0m\u001b[1;33m\u001b[0m\u001b[0m\n\u001b[0;32m     19\u001b[0m         \u001b[0mregularization\u001b[0m \u001b[1;33m=\u001b[0m \u001b[1;33m(\u001b[0m\u001b[0mreg_param\u001b[0m \u001b[1;33m/\u001b[0m \u001b[1;36m2\u001b[0m\u001b[1;33m)\u001b[0m \u001b[1;33m*\u001b[0m \u001b[1;33m(\u001b[0m\u001b[0msum\u001b[0m\u001b[1;33m(\u001b[0m \u001b[0mtheta\u001b[0m\u001b[1;33m**\u001b[0m\u001b[1;36m2\u001b[0m \u001b[1;33m)\u001b[0m \u001b[1;33m+\u001b[0m \u001b[0msum\u001b[0m\u001b[1;33m(\u001b[0m\u001b[0mX\u001b[0m\u001b[1;33m**\u001b[0m\u001b[1;36m2\u001b[0m\u001b[1;33m)\u001b[0m\u001b[1;33m)\u001b[0m\u001b[1;33m\u001b[0m\u001b[0m\n\u001b[1;32m---> 20\u001b[1;33m         \u001b[1;32mreturn\u001b[0m \u001b[0mcost\u001b[0m \u001b[1;33m+\u001b[0m \u001b[0mregularization\u001b[0m\u001b[1;33m\u001b[0m\u001b[0m\n\u001b[0m",
      "\u001b[1;31mValueError\u001b[0m: operands could not be broadcast together with shapes (6,) (3,) "
     ]
    }
   ],
   "source": []
  },
  {
   "cell_type": "code",
   "execution_count": null,
   "metadata": {
    "collapsed": true
   },
   "outputs": [],
   "source": []
  }
 ],
 "metadata": {
  "kernelspec": {
   "display_name": "Python 2",
   "language": "python",
   "name": "python2"
  },
  "language_info": {
   "codemirror_mode": {
    "name": "ipython",
    "version": 2
   },
   "file_extension": ".py",
   "mimetype": "text/x-python",
   "name": "python",
   "nbconvert_exporter": "python",
   "pygments_lexer": "ipython2",
   "version": "2.7.10"
  }
 },
 "nbformat": 4,
 "nbformat_minor": 0
}
