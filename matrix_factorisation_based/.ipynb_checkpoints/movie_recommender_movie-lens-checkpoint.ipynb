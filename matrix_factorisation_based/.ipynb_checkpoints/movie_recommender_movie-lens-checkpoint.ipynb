{
 "cells": [
  {
   "cell_type": "code",
   "execution_count": 5,
   "metadata": {
    "collapsed": true
   },
   "outputs": [],
   "source": [
    "import numpy as np\n",
    "import scipy.optimize as op"
   ]
  },
  {
   "cell_type": "code",
   "execution_count": 2,
   "metadata": {
    "collapsed": true
   },
   "outputs": [],
   "source": [
    "n_movies=50\n",
    "n_users=50\n",
    "n_features=19 # comedy,action,romance etc. applies to both movie and user"
   ]
  },
  {
   "cell_type": "code",
   "execution_count": 6,
   "metadata": {
    "collapsed": false
   },
   "outputs": [],
   "source": [
    "# movies x user rating matrix where ratings_matrix are from 1 to 10\n",
    "#each column is a single users rating of all movies\n",
    "# 0 value if the user has not rated the movie\n",
    "ratings_matrix =np.zeros(shape=(n_movies,n_users))"
   ]
  },
  {
   "cell_type": "code",
   "execution_count": 7,
   "metadata": {
    "collapsed": false
   },
   "outputs": [],
   "source": [
    "with open(\"ml-100k/ua.base\") as f:\n",
    "    for line in f:\n",
    "        l=line.split(\"\\t\")\n",
    "        user_id=int(l[0])\n",
    "        movie_id=int(l[1])\n",
    "        rating=int(l[2])\n",
    "        if (movie_id <= n_movies) and (user_id <= n_users):\n",
    "            ratings_matrix[movie_id-1][user_id-1]=rating\n",
    "        \n",
    "\n"
   ]
  },
  {
   "cell_type": "code",
   "execution_count": 8,
   "metadata": {
    "collapsed": false
   },
   "outputs": [],
   "source": [
    "did_rate=(ratings_matrix!=0)*1"
   ]
  },
  {
   "cell_type": "code",
   "execution_count": 9,
   "metadata": {
    "collapsed": true
   },
   "outputs": [],
   "source": [
    "def normalize_ratings_matrix(ratings_matrix, did_rate):\n",
    "    num_movies = ratings_matrix.shape[0]\n",
    "    \n",
    "    ratings_matrix_mean = np.zeros(shape = (num_movies, 1))\n",
    "    ratings_matrix_norm = np.zeros(shape = ratings_matrix.shape)\n",
    "    \n",
    "    for i in range(num_movies): \n",
    "        # Get all the indexes where there is a 1\n",
    "        idx = np.where(did_rate[i] == 1)[0]\n",
    "        #  Calculate mean rating of ith movie only from user's that gave a rating\n",
    "        ratings_matrix_mean[i] = np.mean(ratings_matrix[i, idx])\n",
    "        ratings_matrix_norm[i, idx] = ratings_matrix[i, idx] - ratings_matrix_mean[i]\n",
    "    \n",
    "    return ratings_matrix_norm, ratings_matrix_mean"
   ]
  },
  {
   "cell_type": "code",
   "execution_count": 10,
   "metadata": {
    "collapsed": false
   },
   "outputs": [],
   "source": [
    "ratings_matrix, ratings_matrix_mean = normalize_ratings_matrix(ratings_matrix, did_rate)"
   ]
  },
  {
   "cell_type": "code",
   "execution_count": 11,
   "metadata": {
    "collapsed": true
   },
   "outputs": [],
   "source": [
    "\n",
    "def unroll_params(X_and_theta, num_users, num_movies, num_features):\n",
    "\t# Retrieve the X and theta matrixes from X_and_theta, based on their dimensions (num_features, num_movies, num_movies)\n",
    "\t# --------------------------------------------------------------------------------------------------------------\n",
    "\t# Get the first 30 (10 * 3) rows in the 48 X 1 column vector\n",
    "\tfirst_30 = X_and_theta[:num_movies * num_features]\n",
    "\t# Reshape this column vector into a 10 X 3 matrix\n",
    "\tX = first_30.reshape((num_features, num_movies)).transpose()\n",
    "\t# Get the rest of the 18 the numbers, after the first 30\n",
    "\tlast_18 = X_and_theta[num_movies * num_features:]\n",
    "\t# Reshape this column vector into a 6 X 3 matrix\n",
    "\ttheta = last_18.reshape(num_features, num_users ).transpose()\n",
    "\treturn X, theta\n"
   ]
  },
  {
   "cell_type": "code",
   "execution_count": 12,
   "metadata": {
    "collapsed": true
   },
   "outputs": [],
   "source": [
    "\n",
    "def calculate_cost(X_and_theta, ratings_matrix, did_rate, num_users, num_movies, num_features, reg_param):\n",
    "\tX, theta = unroll_params(X_and_theta, num_users, num_movies, num_features)\n",
    "\t\n",
    "\t# we multiply (element-wise) by did_rate because we only want to consider observations for which a rating was given\n",
    "\tcost = np.sum( (X.dot( theta.T ) * did_rate - ratings_matrix) ** 2 ) / 2\n",
    "\t# '**' means an element-wise power\n",
    "\tregularization = (reg_param / 2) * (np.sum( theta**2 ) + np.sum(X**2))\n",
    "\treturn cost + regularization"
   ]
  },
  {
   "cell_type": "code",
   "execution_count": 13,
   "metadata": {
    "collapsed": false
   },
   "outputs": [],
   "source": [
    "\n",
    "def calculate_gradient(X_and_theta, ratings_matrix, did_rate, num_users, num_movies, num_features, reg_param):\n",
    "\tX, theta = unroll_params(X_and_theta, num_users, num_movies, num_features)\n",
    "\t\n",
    "\t# we multiply by did_rate because we only want to consider observations for which a rating was given\n",
    "\tdifference = X.dot( theta.T ) * did_rate - ratings_matrix\n",
    "\tX_grad = difference.dot( theta ) + reg_param * X\n",
    "\ttheta_grad = difference.T.dot( X ) + reg_param * theta\n",
    "\t\n",
    "\t# wrap the gradients back into a column vector \n",
    "\treturn np.r_[X_grad.T.flatten(), theta_grad.T.flatten()]\n"
   ]
  },
  {
   "cell_type": "code",
   "execution_count": 14,
   "metadata": {
    "collapsed": false
   },
   "outputs": [
    {
     "name": "stdout",
     "output_type": "stream",
     "text": [
      "Optimization terminated successfully.\n",
      "         Current function value: 0.000000\n",
      "         Iterations: 81\n",
      "         Function evaluations: 136\n",
      "         Gradient evaluations: 136\n"
     ]
    }
   ],
   "source": [
    "reg_param = 0\n",
    "movie_features = np.random.randn( n_movies, n_features )\n",
    "user_prefs = np.random.randn( n_users, n_features )\n",
    "initial_X_and_theta = np.r_[movie_features.T.flatten(), user_prefs.T.flatten()]\n",
    "\n",
    "# perform gradient descent, find the minimum cost (sum of squared errors) and optimal values of X (movie_features) and Theta (user_prefs)\n",
    "\n",
    "minimized_cost_and_optimal_params = op.fmin_cg(calculate_cost, fprime=calculate_gradient, x0=initial_X_and_theta,\n",
    "                                               args=(ratings_matrix, did_rate, n_users, n_movies, n_features, reg_param), \n",
    "                                               disp=True, full_output=True ) \n"
   ]
  },
  {
   "cell_type": "code",
   "execution_count": 15,
   "metadata": {
    "collapsed": false
   },
   "outputs": [],
   "source": [
    "#np.save(\"minimized_cost_and_optimal_params.npy\", minimized_cost_and_optimal_params)\n",
    "cost, optimal_movie_features_and_user_prefs = minimized_cost_and_optimal_params[1], minimized_cost_and_optimal_params[0]"
   ]
  },
  {
   "cell_type": "code",
   "execution_count": 16,
   "metadata": {
    "collapsed": false
   },
   "outputs": [],
   "source": [
    "movie_features, user_prefs = unroll_params(optimal_movie_features_and_user_prefs, n_users, n_movies, n_features)"
   ]
  },
  {
   "cell_type": "code",
   "execution_count": 18,
   "metadata": {
    "collapsed": false
   },
   "outputs": [
    {
     "name": "stdout",
     "output_type": "stream",
     "text": [
      "[[  9.00000153e-01  -9.99998032e-02   2.04307500e+00 ...,   1.46506890e+00\n",
      "   -2.10000032e+00   1.28119260e+00]\n",
      " [  1.66666816e-01  -4.32603598e-01  -4.58387332e+00 ...,  -1.86403460e+00\n",
      "   -1.83333273e+00   9.08677216e-01]\n",
      " [  1.00000002e+00  -2.78041168e+00   7.61383598e+00 ...,  -2.23206929e+00\n",
      "   -2.14121594e-07   1.05680365e+00]\n",
      " ..., \n",
      " [  3.99999863e-01   2.04019759e+00  -8.06331347e-01 ...,   2.81329496e-01\n",
      "   -9.10311994e-01   8.64104483e-01]\n",
      " [ -2.50000294e-01   2.34407434e+00  -2.89928155e+00 ...,  -2.68353550e+00\n",
      "   -1.24999981e+00   3.11502678e+00]\n",
      " [  7.66666578e-01  -8.54601504e-02   1.00858294e+00 ...,  -2.33333718e-01\n",
      "   -3.23333288e+00  -7.42969189e-01]]\n"
     ]
    }
   ],
   "source": [
    "all_predictions = movie_features.dot( user_prefs.T )\n",
    "print all_predictions"
   ]
  },
  {
   "cell_type": "code",
   "execution_count": 22,
   "metadata": {
    "collapsed": false
   },
   "outputs": [
    {
     "name": "stdout",
     "output_type": "stream",
     "text": [
      "[  3.90000015e+00   3.16666682e+00   4.00000002e+00   1.89999979e+00\n",
      "   3.39999968e+00   2.99999993e+00   3.21739104e+00   1.73268152e-07\n",
      "   3.64705784e+00   3.00000044e+00   1.57142839e+00   3.46666591e+00\n",
      "   4.33333290e+00   3.99999999e+00   3.85714305e+00   3.00000025e+00\n",
      "   3.16666648e+00   4.33333293e+00   4.00000011e+00   1.39635616e+00\n",
      "   1.28571434e+00   2.49999978e+00   2.71428591e+00   2.77777779e+00\n",
      "   4.00000059e+00   2.00000023e+00   2.00000003e+00   3.00000020e+00\n",
      "   1.57142832e+00   3.00000019e+00   1.99999998e+00   3.99999988e+00\n",
      "   1.18134336e+00   3.00000021e+00   9.99999662e-01   2.99999939e+00\n",
      "   3.49999978e+00   3.50000002e+00   3.33333356e+00   3.16666653e+00\n",
      "   1.49999987e+00   3.99999989e+00   4.00000008e+00   3.00000052e+00\n",
      "   3.66666675e+00   2.99999948e+00   3.66666705e+00   3.39999986e+00\n",
      "   2.74999971e+00   3.76666658e+00]\n"
     ]
    }
   ],
   "source": [
    "user1_predictions = all_predictions[:, 0]# + ratings_matrix_mean\n",
    "print sample_prediction"
   ]
  },
  {
   "cell_type": "code",
   "execution_count": null,
   "metadata": {
    "collapsed": true
   },
   "outputs": [],
   "source": []
  }
 ],
 "metadata": {
  "kernelspec": {
   "display_name": "Python 2",
   "language": "python",
   "name": "python2"
  },
  "language_info": {
   "codemirror_mode": {
    "name": "ipython",
    "version": 2
   },
   "file_extension": ".py",
   "mimetype": "text/x-python",
   "name": "python",
   "nbconvert_exporter": "python",
   "pygments_lexer": "ipython2",
   "version": "2.7.10"
  }
 },
 "nbformat": 4,
 "nbformat_minor": 0
}
