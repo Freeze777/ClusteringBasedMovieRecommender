{
 "cells": [
  {
   "cell_type": "code",
   "execution_count": 51,
   "metadata": {
    "collapsed": true
   },
   "outputs": [],
   "source": [
    "import numpy as np\n",
    "import scipy.optimize as op"
   ]
  },
  {
   "cell_type": "code",
   "execution_count": 52,
   "metadata": {
    "collapsed": true
   },
   "outputs": [],
   "source": [
    "n_movies=10\n",
    "n_users=5\n",
    "n_features=3 # comedy,action,romance etc. applies to both movie and user"
   ]
  },
  {
   "cell_type": "code",
   "execution_count": 53,
   "metadata": {
    "collapsed": false
   },
   "outputs": [],
   "source": [
    "# movies x user rating matrix where ratings are from 1 to 10\n",
    "#each column is a single users rating of all movies\n",
    "# 0 value if the user has not rated the movie\n",
    "ratings =np.array([\n",
    " [8, 4, 0, 0, 4],\n",
    " [0, 0, 8, 10, 4],\n",
    " [8, 10, 0, 0, 6],\n",
    " [10, 10, 8, 10, 10],\n",
    " [0, 0, 0, 0, 0],\n",
    " [2, 0, 4, 0, 6],\n",
    " [8, 6, 4, 0, 0],\n",
    " [0, 0, 6, 4, 0],\n",
    " [0, 6, 0, 4, 10],\n",
    " [0, 4, 6, 8, 8]\n",
    "])"
   ]
  },
  {
   "cell_type": "code",
   "execution_count": 54,
   "metadata": {
    "collapsed": false
   },
   "outputs": [
    {
     "name": "stdout",
     "output_type": "stream",
     "text": [
      "[[ 8  4  0  0  4]\n",
      " [ 0  0  8 10  4]\n",
      " [ 8 10  0  0  6]\n",
      " [10 10  8 10 10]\n",
      " [ 0  0  0  0  0]\n",
      " [ 2  0  4  0  6]\n",
      " [ 8  6  4  0  0]\n",
      " [ 0  0  6  4  0]\n",
      " [ 0  6  0  4 10]\n",
      " [ 0  4  6  8  8]]\n",
      "(10, 5)\n"
     ]
    }
   ],
   "source": [
    "print ratings\n",
    "print ratings.shape"
   ]
  },
  {
   "cell_type": "code",
   "execution_count": 55,
   "metadata": {
    "collapsed": false
   },
   "outputs": [
    {
     "name": "stdout",
     "output_type": "stream",
     "text": [
      "[[1 1 0 0 1]\n",
      " [0 0 1 1 1]\n",
      " [1 1 0 0 1]\n",
      " [1 1 1 1 1]\n",
      " [0 0 0 0 0]\n",
      " [1 0 1 0 1]\n",
      " [1 1 1 0 0]\n",
      " [0 0 1 1 0]\n",
      " [0 1 0 1 1]\n",
      " [0 1 1 1 1]]\n",
      "(10, 5)\n"
     ]
    }
   ],
   "source": [
    "did_rate=(ratings!=0)*1\n",
    "print did_rate\n",
    "print did_rate.shape"
   ]
  },
  {
   "cell_type": "code",
   "execution_count": 56,
   "metadata": {
    "collapsed": false
   },
   "outputs": [],
   "source": [
    "movies={\n",
    "1:\"Harold and Kumar Escape From Guantanamo Bay (2008)\",\n",
    "2:\"Ted (2012)\",\n",
    "3:\"Straight Outta Compton (2015)\",\n",
    "4:\"A Very Harold and Kumar Christmas (2011)\",\n",
    "5:\"Notorious (2009)\",\n",
    "6:\"Get Rich Or Die Tryin' (2005)\",\n",
    "7:\"Frozen (2013)\",\n",
    "8:\"Tangled (2010)\",\n",
    "9:\"Cinderella (2015)\",\n",
    "10:\"Toy Story 3 (2010)\"\n",
    "}"
   ]
  },
  {
   "cell_type": "code",
   "execution_count": 57,
   "metadata": {
    "collapsed": false
   },
   "outputs": [],
   "source": [
    "sample_rating=np.zeros((n_movies,1)) #column vector\n",
    "sample_rating[0] = 7\n",
    "sample_rating[4] = 8\n",
    "sample_rating[7] = 3"
   ]
  },
  {
   "cell_type": "code",
   "execution_count": 58,
   "metadata": {
    "collapsed": false
   },
   "outputs": [],
   "source": [
    "ratings =np.append(sample_rating,ratings, axis=1) # axis=1 append as column. i.e first column here\n",
    "did_rate = np.append(((sample_rating != 0) * 1), did_rate, axis = 1)"
   ]
  },
  {
   "cell_type": "code",
   "execution_count": 59,
   "metadata": {
    "collapsed": false
   },
   "outputs": [
    {
     "name": "stdout",
     "output_type": "stream",
     "text": [
      "[[  7.   8.   4.   0.   0.   4.]\n",
      " [  0.   0.   0.   8.  10.   4.]\n",
      " [  0.   8.  10.   0.   0.   6.]\n",
      " [  0.  10.  10.   8.  10.  10.]\n",
      " [  8.   0.   0.   0.   0.   0.]\n",
      " [  0.   2.   0.   4.   0.   6.]\n",
      " [  0.   8.   6.   4.   0.   0.]\n",
      " [  3.   0.   0.   6.   4.   0.]\n",
      " [  0.   0.   6.   0.   4.  10.]\n",
      " [  0.   0.   4.   6.   8.   8.]]\n",
      "[[1 1 1 0 0 1]\n",
      " [0 0 0 1 1 1]\n",
      " [0 1 1 0 0 1]\n",
      " [0 1 1 1 1 1]\n",
      " [1 0 0 0 0 0]\n",
      " [0 1 0 1 0 1]\n",
      " [0 1 1 1 0 0]\n",
      " [1 0 0 1 1 0]\n",
      " [0 0 1 0 1 1]\n",
      " [0 0 1 1 1 1]]\n"
     ]
    }
   ],
   "source": [
    "print ratings\n",
    "print did_rate"
   ]
  },
  {
   "cell_type": "code",
   "execution_count": 60,
   "metadata": {
    "collapsed": true
   },
   "outputs": [],
   "source": [
    "def normalize_ratings(ratings, did_rate):\n",
    "    num_movies = ratings.shape[0]\n",
    "    \n",
    "    ratings_mean = np.zeros(shape = (num_movies, 1))\n",
    "    ratings_norm = np.zeros(shape = ratings.shape)\n",
    "    \n",
    "    for i in range(num_movies): \n",
    "        # Get all the indexes where there is a 1\n",
    "        idx = np.where(did_rate[i] == 1)[0]\n",
    "        #  Calculate mean rating of ith movie only from user's that gave a rating\n",
    "        ratings_mean[i] = np.mean(ratings[i, idx])\n",
    "        ratings_norm[i, idx] = ratings[i, idx] - ratings_mean[i]\n",
    "    \n",
    "    return ratings_norm, ratings_mean"
   ]
  },
  {
   "cell_type": "code",
   "execution_count": 61,
   "metadata": {
    "collapsed": false
   },
   "outputs": [],
   "source": [
    "ratings, ratings_mean = normalize_ratings(ratings, did_rate)"
   ]
  },
  {
   "cell_type": "code",
   "execution_count": 63,
   "metadata": {
    "collapsed": false
   },
   "outputs": [
    {
     "name": "stdout",
     "output_type": "stream",
     "text": [
      "[[ 1.25        2.25       -1.75        0.          0.         -1.75      ]\n",
      " [ 0.          0.          0.          0.66666667  2.66666667 -3.33333333]\n",
      " [ 0.          0.          2.          0.          0.         -2.        ]\n",
      " [ 0.          0.4         0.4        -1.6         0.4         0.4       ]\n",
      " [ 0.          0.          0.          0.          0.          0.        ]\n",
      " [ 0.         -2.          0.          0.          0.          2.        ]\n",
      " [ 0.          2.          0.         -2.          0.          0.        ]\n",
      " [-1.33333333  0.          0.          1.66666667 -0.33333333  0.        ]\n",
      " [ 0.          0.         -0.66666667  0.         -2.66666667  3.33333333]\n",
      " [ 0.          0.         -2.5        -0.5         1.5         1.5       ]]\n",
      "[[ 5.75      ]\n",
      " [ 7.33333333]\n",
      " [ 8.        ]\n",
      " [ 9.6       ]\n",
      " [ 8.        ]\n",
      " [ 4.        ]\n",
      " [ 6.        ]\n",
      " [ 4.33333333]\n",
      " [ 6.66666667]\n",
      " [ 6.5       ]]\n"
     ]
    }
   ],
   "source": [
    "print ratings\n",
    "print ratings_mean"
   ]
  },
  {
   "cell_type": "code",
   "execution_count": 64,
   "metadata": {
    "collapsed": true
   },
   "outputs": [],
   "source": [
    "n_movies=ratings.shape[0]\n",
    "n_users = ratings.shape[1]\n",
    "n_features = 3"
   ]
  },
  {
   "cell_type": "code",
   "execution_count": 101,
   "metadata": {
    "collapsed": true
   },
   "outputs": [],
   "source": [
    "\n",
    "def unroll_params(X_and_theta, num_users, num_movies, num_features):\n",
    "\t# Retrieve the X and theta matrixes from X_and_theta, based on their dimensions (num_features, num_movies, num_movies)\n",
    "\t# --------------------------------------------------------------------------------------------------------------\n",
    "\t# Get the first 30 (10 * 3) rows in the 48 X 1 column vector\n",
    "\tfirst_30 = X_and_theta[:num_movies * num_features]\n",
    "\t# Reshape this column vector into a 10 X 3 matrix\n",
    "\tX = first_30.reshape((num_features, num_movies)).transpose()\n",
    "\t# Get the rest of the 18 the numbers, after the first 30\n",
    "\tlast_18 = X_and_theta[num_movies * num_features:]\n",
    "\t# Reshape this column vector into a 6 X 3 matrix\n",
    "\ttheta = last_18.reshape(num_features, num_users ).transpose()\n",
    "\treturn X, theta\n"
   ]
  },
  {
   "cell_type": "code",
   "execution_count": 102,
   "metadata": {
    "collapsed": true
   },
   "outputs": [],
   "source": [
    "\n",
    "def calculate_cost(X_and_theta, ratings, did_rate, num_users, num_movies, num_features, reg_param):\n",
    "\tX, theta = unroll_params(X_and_theta, num_users, num_movies, num_features)\n",
    "\t\n",
    "\t# we multiply (element-wise) by did_rate because we only want to consider observations for which a rating was given\n",
    "\tcost = np.sum( (X.dot( theta.T ) * did_rate - ratings) ** 2 ) / 2\n",
    "\t# '**' means an element-wise power\n",
    "\tregularization = (reg_param / 2) * (np.sum( theta**2 ) + np.sum(X**2))\n",
    "\treturn cost + regularization"
   ]
  },
  {
   "cell_type": "code",
   "execution_count": 103,
   "metadata": {
    "collapsed": false
   },
   "outputs": [],
   "source": [
    "\n",
    "def calculate_gradient(X_and_theta, ratings, did_rate, num_users, num_movies, num_features, reg_param):\n",
    "\tX, theta = unroll_params(X_and_theta, num_users, num_movies, num_features)\n",
    "\t\n",
    "\t# we multiply by did_rate because we only want to consider observations for which a rating was given\n",
    "\tdifference = X.dot( theta.T ) * did_rate - ratings\n",
    "\tX_grad = difference.dot( theta ) + reg_param * X\n",
    "\ttheta_grad = difference.T.dot( X ) + reg_param * theta\n",
    "\t\n",
    "\t# wrap the gradients back into a column vector \n",
    "\treturn np.r_[X_grad.T.flatten(), theta_grad.T.flatten()]\n"
   ]
  },
  {
   "cell_type": "code",
   "execution_count": 127,
   "metadata": {
    "collapsed": false
   },
   "outputs": [
    {
     "name": "stdout",
     "output_type": "stream",
     "text": [
      "Optimization terminated successfully.\n",
      "         Current function value: 0.000000\n",
      "         Iterations: 84\n",
      "         Function evaluations: 135\n",
      "         Gradient evaluations: 135\n"
     ]
    }
   ],
   "source": [
    "reg_param = 0\n",
    "movie_features = np.random.randn( n_movies, n_features )\n",
    "user_prefs = np.random.randn( n_users, n_features )\n",
    "initial_X_and_theta = np.r_[movie_features.T.flatten(), user_prefs.T.flatten()]\n",
    "\n",
    "# perform gradient descent, find the minimum cost (sum of squared errors) and optimal values of X (movie_features) and Theta (user_prefs)\n",
    "\n",
    "minimized_cost_and_optimal_params = op.fmin_cg(calculate_cost, fprime=calculate_gradient, x0=initial_X_and_theta,\n",
    "                                               args=(ratings, did_rate, n_users, n_movies, n_features, reg_param), \n",
    "                                               maxiter=100, disp=True, full_output=True ) \n"
   ]
  },
  {
   "cell_type": "code",
   "execution_count": 128,
   "metadata": {
    "collapsed": false
   },
   "outputs": [],
   "source": [
    "cost, optimal_movie_features_and_user_prefs = minimized_cost_and_optimal_params[1], minimized_cost_and_optimal_params[0]"
   ]
  },
  {
   "cell_type": "code",
   "execution_count": 129,
   "metadata": {
    "collapsed": false
   },
   "outputs": [],
   "source": [
    "movie_features, user_prefs = unroll_params(optimal_movie_features_and_user_prefs, n_users, n_movies, n_features)"
   ]
  },
  {
   "cell_type": "code",
   "execution_count": 130,
   "metadata": {
    "collapsed": false
   },
   "outputs": [
    {
     "name": "stdout",
     "output_type": "stream",
     "text": [
      "[[ 1.05010992 -1.09442748  0.79634644]\n",
      " [ 1.21019499 -1.76674484  1.58331589]\n",
      " [-1.41038521 -1.02044863 -0.10691135]\n",
      " [-0.47484785 -0.24142671 -1.04605059]\n",
      " [ 1.92332055 -1.27992889  0.1994818 ]\n",
      " [-0.65319348  1.18790163 -0.7190741 ]\n",
      " [-0.26573231 -1.56478309 -0.10926483]\n",
      " [ 1.05598033  0.57936887  0.01379071]\n",
      " [ 0.73681287  2.11913423 -0.03433014]\n",
      " [ 1.19731191 -0.36637113 -1.55350554]]\n",
      "[[-0.76093659 -0.94478166  1.27466069]\n",
      " [ 1.06986237 -1.42212389 -0.53982226]\n",
      " [-1.62523861  0.25529682  0.29645777]\n",
      " [ 0.99048566  1.05146336  0.83726428]\n",
      " [ 0.47032574 -1.42622691 -0.26671773]\n",
      " [ 0.48190764  1.39047341 -0.92206728]]\n"
     ]
    }
   ],
   "source": [
    "print movie_features\n",
    "print user_prefs"
   ]
  },
  {
   "cell_type": "code",
   "execution_count": 131,
   "metadata": {
    "collapsed": false
   },
   "outputs": [
    {
     "name": "stdout",
     "output_type": "stream",
     "text": [
      "[[  1.24999945e+00   2.24999903e+00  -1.74999996e+00   5.56120860e-01\n",
      "    1.84239594e+00  -1.75000131e+00]\n",
      " [  2.76649700e+00   2.95256298e+00  -1.94851367e+00   6.66667150e-01\n",
      "    2.66666648e+00  -3.33333328e+00]\n",
      " [  1.90103917e+00  -5.55673838e-07   2.00000051e+00  -2.55944373e+00\n",
      "    8.20565991e-01  -2.00000264e+00]\n",
      " [ -7.43934937e-01   3.99998248e-01   3.99995759e-01  -1.60000212e+00\n",
      "    3.99996345e-01   3.99998795e-01]\n",
      " [ -2.24898551e-08   3.77022103e+00  -3.39347866e+00   7.26242075e-01\n",
      "    2.67685086e+00  -1.03677986e+00]\n",
      " [ -1.54184434e+00  -1.99999822e+00   1.15168768e+00   1.20504114e-06\n",
      "   -1.80964118e+00   2.00000140e+00]\n",
      " [  1.54130822e+00   2.00000201e+00   1.85992649e-06  -1.99999967e+00\n",
      "    2.13589788e+00  -2.20309819e+00]\n",
      " [ -1.33333268e+00   2.98374774e-01  -1.56422062e+00   1.66666499e+00\n",
      "   -3.33334976e-01   1.30176604e+00]\n",
      " [ -2.60654631e+00  -2.20685088e+00  -6.66665935e-01   2.92925116e+00\n",
      "   -2.66666775e+00   3.33333025e+00]\n",
      " [ -2.54513015e+00   2.64060096e+00  -2.49999971e+00  -5.00000228e-01\n",
      "    1.50000243e+00   1.50000108e+00]]\n"
     ]
    }
   ],
   "source": [
    "all_predictions = movie_features.dot( user_prefs.T )\n",
    "print all_predictions"
   ]
  },
  {
   "cell_type": "code",
   "execution_count": 132,
   "metadata": {
    "collapsed": false
   },
   "outputs": [
    {
     "name": "stdout",
     "output_type": "stream",
     "text": [
      "[[  6.99999945]\n",
      " [ 10.09983033]\n",
      " [  9.90103917]\n",
      " [  8.85606506]\n",
      " [  7.99999998]\n",
      " [  2.45815566]\n",
      " [  7.54130822]\n",
      " [  3.00000066]\n",
      " [  4.06012036]\n",
      " [  3.95486985]]\n",
      "[[ 7.]\n",
      " [ 0.]\n",
      " [ 0.]\n",
      " [ 0.]\n",
      " [ 8.]\n",
      " [ 0.]\n",
      " [ 0.]\n",
      " [ 3.]\n",
      " [ 0.]\n",
      " [ 0.]]\n",
      "[[ 5.75      ]\n",
      " [ 7.33333333]\n",
      " [ 8.        ]\n",
      " [ 9.6       ]\n",
      " [ 8.        ]\n",
      " [ 4.        ]\n",
      " [ 6.        ]\n",
      " [ 4.33333333]\n",
      " [ 6.66666667]\n",
      " [ 6.5       ]]\n"
     ]
    }
   ],
   "source": [
    "sample_prediction = all_predictions[:, 0:1] + ratings_mean\n",
    "print sample_prediction\n",
    "print sample_rating\n",
    "print ratings_mean"
   ]
  },
  {
   "cell_type": "code",
   "execution_count": null,
   "metadata": {
    "collapsed": true
   },
   "outputs": [],
   "source": []
  }
 ],
 "metadata": {
  "kernelspec": {
   "display_name": "Python 2",
   "language": "python",
   "name": "python2"
  },
  "language_info": {
   "codemirror_mode": {
    "name": "ipython",
    "version": 2
   },
   "file_extension": ".py",
   "mimetype": "text/x-python",
   "name": "python",
   "nbconvert_exporter": "python",
   "pygments_lexer": "ipython2",
   "version": "2.7.10"
  }
 },
 "nbformat": 4,
 "nbformat_minor": 0
}
