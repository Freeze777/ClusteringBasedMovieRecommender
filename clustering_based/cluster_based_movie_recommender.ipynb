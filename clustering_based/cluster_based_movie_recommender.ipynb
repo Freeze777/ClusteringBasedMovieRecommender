{
 "cells": [
  {
   "cell_type": "code",
   "execution_count": 15,
   "metadata": {
    "collapsed": true
   },
   "outputs": [],
   "source": [
    "from movielens import *\n",
    "import sys\n",
    "import time\n",
    "import math\n",
    "import re\n",
    "import pickle\n",
    "import numpy as np\n",
    "from sklearn.cluster import KMeans\n",
    "from sklearn.metrics import mean_squared_error"
   ]
  },
  {
   "cell_type": "code",
   "execution_count": 31,
   "metadata": {
    "collapsed": false
   },
   "outputs": [],
   "source": [
    "users=[]\n",
    "movies=[]\n",
    "ratings=[]\n",
    "data_loader=Dataset()\n",
    "data_loader.load_users(\"data/u.user\",users)\n",
    "data_loader.load_items(\"data/u.item\",movies)\n",
    "data_loader.load_ratings(\"data/u.base\",ratings)"
   ]
  },
  {
   "cell_type": "code",
   "execution_count": 32,
   "metadata": {
    "collapsed": true
   },
   "outputs": [],
   "source": [
    "movie_features=[]\n",
    "for movie in movies:\n",
    "    movie_features.append([movie.unknown,movie.action,movie.adventure,movie.animation,\n",
    "                            movie.childrens,movie.comedy,movie.crime,movie.documentary,\n",
    "                            movie.drama,movie.fantasy,movie.film_noir,movie.horror,\n",
    "                            movie.musical,movie.mystery,movie.romance,movie.sci_fi,\n",
    "                            movie.thriller,movie.war,movie.western])"
   ]
  },
  {
   "cell_type": "code",
   "execution_count": 35,
   "metadata": {
    "collapsed": false
   },
   "outputs": [
    {
     "name": "stdout",
     "output_type": "stream",
     "text": [
      "943 1682 19\n"
     ]
    }
   ],
   "source": [
    "num_users=len(users)\n",
    "num_movies=len(movies)\n",
    "num_features=len(movie_features[0])\n",
    "print num_users,num_movies,num_features"
   ]
  },
  {
   "cell_type": "code",
   "execution_count": 53,
   "metadata": {
    "collapsed": false
   },
   "outputs": [],
   "source": [
    "clusterer=KMeans(n_clusters=num_features)\n",
    "cluster_label_of_movies=clusterer.fit_predict(movie_features)"
   ]
  },
  {
   "cell_type": "code",
   "execution_count": 74,
   "metadata": {
    "collapsed": false
   },
   "outputs": [
    {
     "name": "stdout",
     "output_type": "stream",
     "text": [
      "[[ 5.  3.  4. ...,  0.  0.  0.]\n",
      " [ 4.  0.  0. ...,  0.  0.  0.]\n",
      " [ 0.  0.  0. ...,  0.  0.  0.]\n",
      " ..., \n",
      " [ 5.  0.  0. ...,  0.  0.  0.]\n",
      " [ 0.  0.  0. ...,  0.  0.  0.]\n",
      " [ 0.  5.  0. ...,  0.  0.  0.]]\n"
     ]
    }
   ],
   "source": [
    "ratings_matrix=np.zeros(shape=(num_users,num_movies))\n",
    "\n",
    "for rating in ratings:\n",
    "    ratings_matrix[rating.user_id-1][rating.item_id-1]=rating.rating\n",
    "    \n",
    "print ratings_matrix"
   ]
  },
  {
   "cell_type": "code",
   "execution_count": 55,
   "metadata": {
    "collapsed": false
   },
   "outputs": [
    {
     "name": "stdout",
     "output_type": "stream",
     "text": [
      "[[ 3.37777778  3.66666667  3.86666667 ...,  4.8         2.95652174\n",
      "   4.21428571]\n",
      " [ 3.6         0.          3.75       ...,  0.          4.          3.64285714]\n",
      " [ 2.8         2.5         2.5        ...,  4.          3.          2.85714286]\n",
      " ..., \n",
      " [ 4.          0.          0.         ...,  0.          3.          0.        ]\n",
      " [ 3.57142857  0.          4.33333333 ...,  5.          4.5         4.46153846]\n",
      " [ 2.68        3.          3.15384615 ...,  3.66666667  2.95238095\n",
      "   3.82352941]]\n"
     ]
    }
   ],
   "source": [
    "users_cluster_avg=[]\n",
    "for user in users:\n",
    "    cluster_avg_rating=np.zeros(num_features)\n",
    "    cluster_of_rated_movies=[[] for i in range(num_features)]\n",
    "    for movie in movies:\n",
    "        if ratings_matrix[user.id-1][movie.id-1]!=0:\n",
    "            cluster_of_rated_movies[cluster_label_of_movies[movie.id-1]-1].append(ratings_matrix[user.id-1][movie.id-1])\n",
    "    for i in range(num_features):\n",
    "        if len(cluster_of_rated_movies[i])!=0:\n",
    "            cluster_avg_rating[i]=np.mean(cluster_of_rated_movies[i])\n",
    "        else:\n",
    "            cluster_avg_rating[i]=0 #user havent seen any movie in this cluster\n",
    "    users_cluster_avg.append(cluster_avg_rating)\n",
    "        \n",
    "users_cluster_avg=np.array(users_cluster_avg)\n",
    "print users_cluster_avg"
   ]
  },
  {
   "cell_type": "code",
   "execution_count": 56,
   "metadata": {
    "collapsed": true
   },
   "outputs": [],
   "source": [
    "for user in users:\n",
    "    cluster_avg_rating=users_cluster_avg[user.id-1]\n",
    "    sum_of_avg_of_rated_clusters=sum(r for r in cluster_avg_rating if r>0)\n",
    "    num_of_rated_clusters=sum(r>0 for r in cluster_avg_rating)\n",
    "    user.avg_r=sum_of_avg_of_rated_clusters/num_of_rated_clusters\n",
    "    "
   ]
  },
  {
   "cell_type": "code",
   "execution_count": 57,
   "metadata": {
    "collapsed": true
   },
   "outputs": [],
   "source": [
    "def pearsons_correlation_coefficient(user1,user2):\n",
    "    user1_cluster_avg_list=users_cluster_avg[user1-1]\n",
    "    user2_cluster_avg_list=users_cluster_avg[user2-1]\n",
    "    numerator=0.0\n",
    "    denominator1=0.0\n",
    "    denominator2=0.0\n",
    "    \n",
    "    for u1,u2 in zip(user1_cluster_avg_list,user2_cluster_avg_list):\n",
    "        if u1>0 and u2>0:\n",
    "            numerator+=((u1-users[user1-1].avg_r)*(u2-users[user2-1].avg_r))\n",
    "        if u1>0:\n",
    "            denominator1+=(u1-users[user1-1].avg_r)**2\n",
    "        if u2>0:\n",
    "            denominator2+=(u2-users[user2-1].avg_r)**2\n",
    "            \n",
    "    denominator=(denominator1*denominator2)**0.5\n",
    "    if denominator==0:\n",
    "        return 0\n",
    "    else:\n",
    "        return numerator/denominator"
   ]
  },
  {
   "cell_type": "code",
   "execution_count": 58,
   "metadata": {
    "collapsed": true
   },
   "outputs": [],
   "source": [
    "user_similarity_matrix=np.zeros(shape=(num_users,num_users))\n",
    "for i in range(num_users):\n",
    "    for j in range(i):\n",
    "            user_similarity_matrix[i][j]=pearsons_correlation_coefficient(i+1,j+1)\n",
    "            user_similarity_matrix[j][i]=user_similarity_matrix[i][j]\n",
    "\n",
    "print user_similarity_matrix"
   ]
  },
  {
   "cell_type": "code",
   "execution_count": 65,
   "metadata": {
    "collapsed": false
   },
   "outputs": [],
   "source": [
    "def save_object(obj, filename):\n",
    "    with open(filename, 'wb') as output:\n",
    "        pickle.dump(obj, output, pickle.HIGHEST_PROTOCOL)\n",
    "    return\n",
    "\n",
    "def load_object(filename):\n",
    "    with open(filename, 'rb') as input:\n",
    "        obj=pickle.load(input)\n",
    "    return obj\n",
    "\n",
    "save_object(user_similarity_matrix,\"user_similarity_matrix.pkl\")"
   ]
  },
  {
   "cell_type": "code",
   "execution_count": 76,
   "metadata": {
    "collapsed": false
   },
   "outputs": [],
   "source": [
    "def predict_user_cluster_rating(user_id, clust_id, top_n):\n",
    "    similar_users=[]\n",
    "    for i in range(num_users):\n",
    "        if user_id-1!=i:\n",
    "            similar_users.append(user_similarity_matrix[user_id-1][i])\n",
    "            \n",
    "    users_cluster_avg_cpy=np.copy(users_cluster_avg)\n",
    "    users_cluster_avg_cpy=np.delete(users_cluster_avg_cpy, user_id-1, 0)\n",
    "    top_n_similar_users=[x for (y,x) in sorted(zip(similar_users,users_cluster_avg_cpy), key=lambda pair: pair[0], reverse=True)]\n",
    "    #top_n_similar_users=sorted(zip(similar_users,users_cluster_avg_cpy),reverse=True)[:top_n]\n",
    "    \n",
    "    s=0\n",
    "    c=0\n",
    "    for i in range(top_n):\n",
    "        if top_n_similar_users[i][clust_id-1]!=0:\n",
    "            s+=top_n_similar_users[i][clust_id-1]\n",
    "            c+=1\n",
    "   \n",
    "    pred = users[user_id-1].avg_r\n",
    "    if c != 0:\n",
    "        pred=s/float(c)\n",
    "        \n",
    "    if pred < 1.0:\n",
    "        return 1.0\n",
    "    elif pred > 5.0:\n",
    "        return 5.0\n",
    "    else:\n",
    "        return pred"
   ]
  },
  {
   "cell_type": "code",
   "execution_count": 77,
   "metadata": {
    "collapsed": false
   },
   "outputs": [
    {
     "name": "stdout",
     "output_type": "stream",
     "text": [
      "[[ 3.37777778  3.66666667  3.86666667 ...,  4.8         2.95652174\n",
      "   4.21428571]\n",
      " [ 3.6         3.55599647  3.75       ...,  4.07496511  4.          3.64285714]\n",
      " [ 2.8         2.5         2.5        ...,  4.          3.          2.85714286]\n",
      " ..., \n",
      " [ 4.          3.64583987  3.54189197 ...,  3.87060079  3.          3.72504544]\n",
      " [ 3.57142857  3.45718924  4.33333333 ...,  5.          4.5         4.46153846]\n",
      " [ 2.68        3.          3.15384615 ...,  3.66666667  2.95238095\n",
      "   3.82352941]]\n"
     ]
    }
   ],
   "source": [
    "\n",
    "users_cluster_avg_cpy = np.copy(users_cluster_avg)\n",
    "for i in range(num_users):\n",
    "    for j in range(num_features):\n",
    "        if users_cluster_avg_cpy[i][j] == 0:\n",
    "            users_cluster_avg_cpy[i][j] = predict_user_cluster_rating(i+1, j+1, 150)\n",
    "\n",
    "\n",
    "print users_cluster_avg_cpy\n",
    "\n",
    "save_object(users_cluster_avg_cpy,\"users_cluster_avg_cpy.pkl\")"
   ]
  },
  {
   "cell_type": "code",
   "execution_count": 80,
   "metadata": {
    "collapsed": false
   },
   "outputs": [
    {
     "name": "stdout",
     "output_type": "stream",
     "text": [
      "Mean Squared Error: 1.246654\n"
     ]
    }
   ],
   "source": [
    "rating_test = []\n",
    "data_loader.load_ratings(\"data/u.test\", rating_test)\n",
    "\n",
    "test = np.zeros((num_users, num_movies))\n",
    "for r in rating_test:\n",
    "    test[r.user_id - 1][r.item_id - 1] = r.rating\n",
    "    \n",
    "y_true = []\n",
    "y_pred = []\n",
    "f = open('test.txt', 'w')\n",
    "for i in range(0, num_users):\n",
    "    for j in range(0, num_movies):\n",
    "        if test[i][j] > 0:\n",
    "            f.write(\"%d, %d, %.4f\\n\" % (i+1, j+1, users_cluster_avg_cpy[i][cluster_label_of_movies[j]-1]))\n",
    "            y_true.append(test[i][j])\n",
    "            y_pred.append(users_cluster_avg_cpy[i][cluster_label_of_movies[j]-1])\n",
    "f.close()\n",
    "\n",
    "print \"Mean Squared Error: %f\" % mean_squared_error(y_true, y_pred)"
   ]
  },
  {
   "cell_type": "code",
   "execution_count": null,
   "metadata": {
    "collapsed": true
   },
   "outputs": [],
   "source": []
  }
 ],
 "metadata": {
  "kernelspec": {
   "display_name": "Python 2",
   "language": "python",
   "name": "python2"
  },
  "language_info": {
   "codemirror_mode": {
    "name": "ipython",
    "version": 2
   },
   "file_extension": ".py",
   "mimetype": "text/x-python",
   "name": "python",
   "nbconvert_exporter": "python",
   "pygments_lexer": "ipython2",
   "version": "2.7.10"
  }
 },
 "nbformat": 4,
 "nbformat_minor": 0
}
